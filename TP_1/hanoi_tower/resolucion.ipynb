{
 "cells": [
  {
   "cell_type": "markdown",
   "metadata": {},
   "source": [
    "# TP Nº 1 - Intro IA\n",
    "\n",
    "Integrantes:\n",
    "- Sarina, Diego \n",
    "- Nº SIU: a1519\n",
    "- Correo: sarinadiego@gmail.com"
   ]
  },
  {
   "cell_type": "code",
   "execution_count": 9,
   "metadata": {},
   "outputs": [],
   "source": [
    "import tracemalloc\n",
    "import time\n",
    "from hanoi_states import StatesHanoi, ProblemHanoi\n",
    "from tree_hanoi import NodeHanoi\n",
    "\n",
    "from search import (\n",
    "    breadth_first_graph_search,\n",
    "    depth_first_search,\n",
    "    iterative_deepening_depth_limited_search,\n",
    ")\n",
    "\n",
    "# Define el estado inicial y el estado objetivo del problema\n",
    "initial_state = StatesHanoi([5,4,3, 2, 1], [], [], max_disks=5)\n",
    "goal_state = StatesHanoi([], [], [5,4,3, 2, 1], max_disks=5)\n",
    "\n",
    "\n",
    "# Crea una instancia del problema de la Torre de Hanoi\n",
    "problem_hanoi = ProblemHanoi(initial=initial_state, goal=goal_state)\n"
   ]
  },
  {
   "cell_type": "code",
   "execution_count": 5,
   "metadata": {},
   "outputs": [
    {
     "name": "stdout",
     "output_type": "stream",
     "text": [
      "233 caminos se expandieron y 10 caminos quedaron en la frontera\n",
      "Costo total: 31.0\n"
     ]
    }
   ],
   "source": [
    "# BFS\n",
    "last_node = breadth_first_graph_search(problem_hanoi, display=True)\n",
    "print(f\"Costo total: {last_node.state.accumulated_cost}\")"
   ]
  },
  {
   "cell_type": "code",
   "execution_count": 6,
   "metadata": {},
   "outputs": [
    {
     "name": "stdout",
     "output_type": "stream",
     "text": [
      "82 caminos se expandieron y 41 caminos quedaron en la frontera\n",
      "Costo total: 81.0\n"
     ]
    }
   ],
   "source": [
    "# DFS\n",
    "last_node = depth_first_search(problem_hanoi, display=True)\n",
    "print(f\"Costo total: {last_node.state.accumulated_cost}\")"
   ]
  },
  {
   "cell_type": "code",
   "execution_count": 8,
   "metadata": {},
   "outputs": [
    {
     "name": "stdout",
     "output_type": "stream",
     "text": [
      "2364 caminos se expandieron y 32 caminos quedaron en la frontera\n",
      "Costo total: 31.0\n"
     ]
    }
   ],
   "source": [
    "# IDDFS\n",
    "last_node = iterative_deepening_depth_limited_search(problem_hanoi, display=True)\n",
    "print(f\"Costo total: {last_node.state.accumulated_cost}\")"
   ]
  },
  {
   "cell_type": "code",
   "execution_count": 11,
   "metadata": {},
   "outputs": [],
   "source": [
    "# Creo una funcion para reutilizar en la ejecucion de los algoritmos\n",
    "def run_search_algorithm(algorithm, problem):\n",
    "    start_time = time.perf_counter()\n",
    "    tracemalloc.start()\n",
    "    last_node = algorithm(problem)\n",
    "    _, memory_peak = tracemalloc.get_traced_memory()\n",
    "    memory_peak /= 1024 * 1024\n",
    "    tracemalloc.stop()\n",
    "    end_time = time.perf_counter()\n",
    "    elapsed_time = end_time - start_time\n",
    "    return last_node, elapsed_time, memory_peak\n",
    "\n"
   ]
  },
  {
   "cell_type": "code",
   "execution_count": 16,
   "metadata": {},
   "outputs": [
    {
     "name": "stdout",
     "output_type": "stream",
     "text": [
      "====== Realizando ejecucion individual ======\n",
      "Longitud del camino de la solución: 31.0 - Metodo: BFS\n",
      "Longitud del camino de la solución: 81.0 - Metodo: DFS\n",
      "Longitud del camino de la solución: 31.0 - Metodo: IDDFS\n"
     ]
    }
   ],
   "source": [
    "\n",
    "# Diccionario con los metodos de busqueda a ejecutar\n",
    "search_algorithms = {\n",
    "    \"BFS\": breadth_first_graph_search,\n",
    "    \"DFS\": depth_first_search,\n",
    "    \"IDDFS\": iterative_deepening_depth_limited_search\n",
    "}\n",
    "\n",
    "\n",
    "metrics = {}\n",
    "\n",
    "# Ejecucion individual\n",
    "print(\"====== Realizando ejecucion individual ======\")\n",
    "for search_method, search_function in search_algorithms.items():\n",
    "    last_node = search_function(problem_hanoi)\n",
    "    \n",
    "    if isinstance(last_node, NodeHanoi):\n",
    "        # Imprime la longitud del camino de la solución encontrada\n",
    "        print(f'Longitud del camino de la solución: {last_node.state.accumulated_cost} - Metodo: {search_method}')\n",
    "\n",
    "        # Genera los JSON para el simulador\n",
    "        last_node.generate_solution_for_simulator(\n",
    "            initial_state_file=f\"./simulator_files/initial_state_{search_method}.json\",\n",
    "            sequence_file=f\"./simulator_files/sequence_{search_method}.json\"\n",
    "        )\n",
    "    else:\n",
    "        print(f\"No se encuentra solución para el algoritmo: {search_method}\")"
   ]
  },
  {
   "cell_type": "code",
   "execution_count": null,
   "metadata": {},
   "outputs": [],
   "source": []
  }
 ],
 "metadata": {
  "kernelspec": {
   "display_name": ".venv",
   "language": "python",
   "name": "python3"
  },
  "language_info": {
   "codemirror_mode": {
    "name": "ipython",
    "version": 3
   },
   "file_extension": ".py",
   "mimetype": "text/x-python",
   "name": "python",
   "nbconvert_exporter": "python",
   "pygments_lexer": "ipython3",
   "version": "3.12.0"
  }
 },
 "nbformat": 4,
 "nbformat_minor": 2
}
